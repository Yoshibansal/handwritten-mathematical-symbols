{
 "cells": [
  {
   "cell_type": "markdown",
   "metadata": {},
   "source": [
    "# Handwritten mathematical sumbols"
   ]
  },
  {
   "cell_type": "markdown",
   "metadata": {},
   "source": [
    "## Data preprocessing"
   ]
  },
  {
   "cell_type": "markdown",
   "metadata": {},
   "source": [
    "Hand_written\n",
    "    \n",
    "    --> handwritten_mathematical_model.ipynb\n",
    "    --> hasy-data\n",
    "    --> hasy-data-labels\n",
    "    --> symbols.csv\n",
    "    --> hasyv2\n",
    "        --> hasy-data\n",
    "        --> hasy-data-labels\n",
    "        --> symbols.csv\n",
    "        --> verification-task\n",
    "    --> verification-task\n",
    "    \n",
    "Note:- You can use hasyv2 but for this I have not used that"
   ]
  },
  {
   "cell_type": "code",
   "execution_count": 1,
   "metadata": {},
   "outputs": [
    {
     "data": {
      "text/html": [
       "<img src=\"hasy-data/v2-00010.png\"/>"
      ],
      "text/plain": [
       "<IPython.core.display.Image object>"
      ]
     },
     "execution_count": 1,
     "metadata": {},
     "output_type": "execute_result"
    }
   ],
   "source": [
    "#Just to check\n",
    "from IPython.display import Image\n",
    "Image(url='hasy-data/v2-00010.png')"
   ]
  },
  {
   "cell_type": "code",
   "execution_count": 2,
   "metadata": {},
   "outputs": [
    {
     "name": "stderr",
     "output_type": "stream",
     "text": [
      "Using TensorFlow backend.\n"
     ]
    }
   ],
   "source": [
    "#importing libraries for preprocessing task\n",
    "import csv\n",
    "from PIL import Image as pil_image\n",
    "import keras.preprocessing.image"
   ]
  },
  {
   "cell_type": "code",
   "execution_count": 3,
   "metadata": {},
   "outputs": [
    {
     "name": "stdout",
     "output_type": "stream",
     "text": [
      "Total number of images:  168233\n"
     ]
    }
   ],
   "source": [
    "#load all images and save there classes\n",
    "\n",
    "imgs = []\n",
    "classes = []\n",
    "with open('hasy-data-labels.csv') as csvFile:\n",
    "    csvReader = csv.reader(csvFile)\n",
    "    i = 0\n",
    "    for row in csvReader:\n",
    "        if i > 0:\n",
    "            img = keras.preprocessing.image.img_to_array(pil_image.open(row[0]))\n",
    "            img /= 255.0\n",
    "            imgs.append((row[0], row[2], img))\n",
    "            classes.append(row[2])\n",
    "        i += 1\n",
    "print(\"Total number of images: \", len(imgs)) #print the total number of images "
   ]
  },
  {
   "cell_type": "markdown",
   "metadata": {},
   "source": [
    "Randomly split the data into training and test\n",
    "\n",
    "80% -> train\n",
    "\n",
    "20% -> test"
   ]
  },
  {
   "cell_type": "code",
   "execution_count": 4,
   "metadata": {},
   "outputs": [],
   "source": [
    "import random\n",
    "random.shuffle(imgs)\n",
    "split_idx = int(0.8*len(imgs))\n",
    "train = imgs[:split_idx]\n",
    "test = imgs[split_idx:]\n",
    "\n",
    "#Later take 20% from train for validation"
   ]
  },
  {
   "cell_type": "code",
   "execution_count": 5,
   "metadata": {},
   "outputs": [],
   "source": [
    "import numpy as np\n",
    "\n",
    "train_input = np.asarray(list(map(lambda row: row[2], train)))\n",
    "test_input = np.asarray(list(map(lambda row: row[2], test)))\n",
    "\n",
    "train_output = np.asarray(list(map(lambda row: row[1], train)))\n",
    "test_output = np.asarray(list(map(lambda row: row[1], test)))"
   ]
  },
  {
   "cell_type": "markdown",
   "metadata": {},
   "source": [
    "learn about oneHotEncoder\n",
    "https://scikit-learn.org/stable/modules/generated/sklearn.preprocessing.OneHotEncoder.html"
   ]
  },
  {
   "cell_type": "code",
   "execution_count": 6,
   "metadata": {},
   "outputs": [],
   "source": [
    "#our labels are in the text format therefore using oneHotEncoder to convert them\n",
    "    \n",
    "from sklearn.preprocessing import LabelEncoder, OneHotEncoder"
   ]
  },
  {
   "cell_type": "code",
   "execution_count": 7,
   "metadata": {
    "scrolled": true
   },
   "outputs": [
    {
     "name": "stderr",
     "output_type": "stream",
     "text": [
      "/Applications/Anaconda-Navigator/anaconda3/lib/python3.7/site-packages/sklearn/preprocessing/_encoders.py:415: FutureWarning: The handling of integer data will change in version 0.22. Currently, the categories are determined based on the range [0, max(values)], while in the future they will be determined based on the unique values.\n",
      "If you want the future behaviour and silence this warning, you can specify \"categories='auto'\".\n",
      "In case you used a LabelEncoder before this OneHotEncoder to convert the categories to integers, then you can now use the OneHotEncoder directly.\n",
      "  warnings.warn(msg, FutureWarning)\n"
     ]
    },
    {
     "name": "stdout",
     "output_type": "stream",
     "text": [
      "Number of classes 369\n",
      "Shape of the input image:  (32, 32, 3)\n"
     ]
    }
   ],
   "source": [
    "label_encoder = LabelEncoder()\n",
    "integer_encoded = label_encoder.fit_transform(classes)\n",
    "\n",
    "onehot_encoder = OneHotEncoder(sparse = False)\n",
    "integer_encoded = integer_encoded.reshape(len(integer_encoded), 1)\n",
    "onehot_encoder.fit(integer_encoded)\n",
    "\n",
    "train_output_int = label_encoder.transform(train_output)\n",
    "train_output = onehot_encoder.transform(train_output_int.reshape(len(train_output_int), 1))\n",
    "test_output_int = label_encoder.transform(test_output)\n",
    "test_ouput = onehot_encoder.transform(test_output_int.reshape(len(test_output_int), 1))\n",
    "\n",
    "num_classes = len(label_encoder.classes_)\n",
    "\n",
    "print(\"Number of classes\", num_classes)\n",
    "print(\"Shape of the input image: \", np.shape(train_input[0]))"
   ]
  },
  {
   "cell_type": "markdown",
   "metadata": {},
   "source": [
    "## Model"
   ]
  },
  {
   "cell_type": "code",
   "execution_count": 8,
   "metadata": {},
   "outputs": [],
   "source": [
    "#importing libraries\n",
    "\n",
    "import tensorflow as tf\n",
    "from tensorflow import keras\n",
    "from tensorflow.keras.models import Sequential\n",
    "from tensorflow.keras.optimizers import RMSprop, Adam\n",
    "from tensorflow.keras.layers import (\n",
    "    Dense,\n",
    "    Dropout,\n",
    "    Flatten,\n",
    "    Conv2D,\n",
    "    MaxPooling2D\n",
    ")"
   ]
  },
  {
   "cell_type": "markdown",
   "metadata": {},
   "source": [
    "This is very basic CNN architecture with some convolution layer followed by max pooling layer\n",
    "which is then followed by flatten and some dense layer.\n"
   ]
  },
  {
   "cell_type": "code",
   "execution_count": 9,
   "metadata": {},
   "outputs": [],
   "source": [
    "#model architecture\n",
    "\n",
    "model = Sequential([\n",
    "    Conv2D(32, (3,3), activation='relu', input_shape = np.shape(train_input[0])),\n",
    "    MaxPooling2D(pool_size = (2,2)),\n",
    "    Conv2D(32, (3,3), activation='relu'),\n",
    "    MaxPooling2D(pool_size = (2,2)),\n",
    "    Flatten(),\n",
    "    Dense(1024, activation = 'tanh'),\n",
    "    Dropout(0.5),  #to reduce overfitting\n",
    "    Dense(num_classes, activation='softmax')\n",
    "])"
   ]
  },
  {
   "cell_type": "code",
   "execution_count": 16,
   "metadata": {},
   "outputs": [],
   "source": [
    "#compile model\n",
    "learning_rate = 1e-5 #1e-2 (0.01)\n",
    "\n",
    "model.compile(\n",
    "            optimizer = 'adam', #Adam(lr = learning_rate)\n",
    "            loss = 'categorical_crossentropy', \n",
    "            metrics = ['accuracy'])"
   ]
  },
  {
   "cell_type": "code",
   "execution_count": 17,
   "metadata": {},
   "outputs": [
    {
     "name": "stdout",
     "output_type": "stream",
     "text": [
      "Model: \"sequential\"\n",
      "_________________________________________________________________\n",
      "Layer (type)                 Output Shape              Param #   \n",
      "=================================================================\n",
      "conv2d (Conv2D)              (None, 30, 30, 32)        896       \n",
      "_________________________________________________________________\n",
      "max_pooling2d (MaxPooling2D) (None, 15, 15, 32)        0         \n",
      "_________________________________________________________________\n",
      "conv2d_1 (Conv2D)            (None, 13, 13, 32)        9248      \n",
      "_________________________________________________________________\n",
      "max_pooling2d_1 (MaxPooling2 (None, 6, 6, 32)          0         \n",
      "_________________________________________________________________\n",
      "flatten (Flatten)            (None, 1152)              0         \n",
      "_________________________________________________________________\n",
      "dense (Dense)                (None, 1024)              1180672   \n",
      "_________________________________________________________________\n",
      "dropout (Dropout)            (None, 1024)              0         \n",
      "_________________________________________________________________\n",
      "dense_1 (Dense)              (None, 369)               378225    \n",
      "=================================================================\n",
      "Total params: 1,569,041\n",
      "Trainable params: 1,569,041\n",
      "Non-trainable params: 0\n",
      "_________________________________________________________________\n"
     ]
    }
   ],
   "source": [
    "model.summary()"
   ]
  },
  {
   "cell_type": "markdown",
   "metadata": {},
   "source": [
    "Training"
   ]
  },
  {
   "cell_type": "code",
   "execution_count": 18,
   "metadata": {},
   "outputs": [
    {
     "name": "stdout",
     "output_type": "stream",
     "text": [
      "Epoch 1/15\n",
      "3365/3365 [==============================] - 152s 45ms/step - loss: 1.7199 - accuracy: 0.5893 - val_loss: 0.9611 - val_accuracy: 0.7352\n",
      "Epoch 2/15\n",
      "3365/3365 [==============================] - 162s 48ms/step - loss: 0.9769 - accuracy: 0.7304 - val_loss: 0.8759 - val_accuracy: 0.7541\n",
      "Epoch 3/15\n",
      "3365/3365 [==============================] - 156s 46ms/step - loss: 0.8200 - accuracy: 0.7612 - val_loss: 0.8510 - val_accuracy: 0.7549\n",
      "Epoch 4/15\n",
      "3365/3365 [==============================] - 159s 47ms/step - loss: 0.7502 - accuracy: 0.7771 - val_loss: 0.8300 - val_accuracy: 0.7624\n",
      "Epoch 5/15\n",
      "3365/3365 [==============================] - 147s 44ms/step - loss: 0.6774 - accuracy: 0.7937 - val_loss: 0.8371 - val_accuracy: 0.7627\n",
      "Epoch 6/15\n",
      "3365/3365 [==============================] - 153s 45ms/step - loss: 0.6395 - accuracy: 0.8017 - val_loss: 0.8544 - val_accuracy: 0.7590\n",
      "Epoch 7/15\n",
      "3365/3365 [==============================] - 151s 45ms/step - loss: 0.6020 - accuracy: 0.8102 - val_loss: 0.8477 - val_accuracy: 0.7599\n",
      "Epoch 8/15\n",
      "3365/3365 [==============================] - 183s 55ms/step - loss: 0.5731 - accuracy: 0.8180 - val_loss: 0.8552 - val_accuracy: 0.7686\n",
      "Epoch 9/15\n",
      "3365/3365 [==============================] - 199s 59ms/step - loss: 0.5468 - accuracy: 0.8213 - val_loss: 0.8777 - val_accuracy: 0.7674\n",
      "Epoch 10/15\n",
      "3365/3365 [==============================] - 182s 54ms/step - loss: 0.5256 - accuracy: 0.8289 - val_loss: 0.8901 - val_accuracy: 0.7619\n",
      "Epoch 11/15\n",
      "3365/3365 [==============================] - 186s 55ms/step - loss: 0.5045 - accuracy: 0.8329 - val_loss: 0.8962 - val_accuracy: 0.7589\n",
      "Epoch 12/15\n",
      "3365/3365 [==============================] - 188s 56ms/step - loss: 0.4824 - accuracy: 0.8373 - val_loss: 0.9254 - val_accuracy: 0.7552\n",
      "Epoch 13/15\n",
      "3365/3365 [==============================] - 188s 56ms/step - loss: 0.4685 - accuracy: 0.8426 - val_loss: 0.9274 - val_accuracy: 0.7557\n",
      "Epoch 14/15\n",
      "3365/3365 [==============================] - 189s 56ms/step - loss: 0.4637 - accuracy: 0.8438 - val_loss: 0.9506 - val_accuracy: 0.7587\n",
      "Epoch 15/15\n",
      "3365/3365 [==============================] - 184s 55ms/step - loss: 0.4519 - accuracy: 0.8471 - val_loss: 0.9519 - val_accuracy: 0.7593\n"
     ]
    }
   ],
   "source": [
    "BATCH_SIZE = 32\n",
    "EPOCHS = 15 #10\n",
    "VALIDATION_SPLIT = 0.2\n",
    "\n",
    "history = model.fit(train_input, train_output,\n",
    "                   batch_size = BATCH_SIZE,\n",
    "                   epochs = EPOCHS,\n",
    "                   verbose = 1,\n",
    "                   validation_split = VALIDATION_SPLIT)\n",
    "\n",
    "#Accuracy I achieved was nearly 82% after 10th epoch (Val_accuracy -> 77%) \n",
    "#tuning hyparameters and changing model architecture will help you gain much more accuracy and reduce overfitting"
   ]
  },
  {
   "cell_type": "markdown",
   "metadata": {},
   "source": [
    "Plotting the graphs: \n",
    "    1. Training and validation accuracy\n",
    "    2. Training and validation loss"
   ]
  },
  {
   "cell_type": "code",
   "execution_count": 19,
   "metadata": {},
   "outputs": [
    {
     "data": {
      "image/png": "[encoded data removed]",
      "text/plain": [
       "<Figure size 2160x720 with 2 Axes>"
      ]
     },
     "metadata": {
      "needs_background": "light"
     },
     "output_type": "display_data"
    }
   ],
   "source": [
    "import matplotlib.pyplot as plt\n",
    "\n",
    "acc = history.history['accuracy']\n",
    "val_acc = history.history['val_accuracy']\n",
    "loss = history.history['loss']\n",
    "val_loss = history.history['val_loss']\n",
    "\n",
    "epochs = range(len(acc))\n",
    "\n",
    "fig = plt.subplots(figsize=(30, 10))\n",
    "\n",
    "plt.subplot(1, 2, 1)\n",
    "plt.plot(acc)\n",
    "plt.plot(val_acc)\n",
    "plt.title('Training and Validation Accuracy')\n",
    "plt.xlabel('Epoch')\n",
    "plt.ylabel('Accuracy')\n",
    "plt.legend(['Training Accuracy', 'Validation Accuracy'])\n",
    "\n",
    "plt.subplot(1, 2, 2)\n",
    "plt.plot(loss)\n",
    "plt.plot(val_loss)\n",
    "plt.title('Training and Validation Loss')\n",
    "plt.xlabel('Epoch')\n",
    "plt.ylabel('Loss')\n",
    "plt.legend(['Training Loss', 'Validation Loss'])\n",
    "\n",
    "plt.show()"
   ]
  },
  {
   "cell_type": "markdown",
   "metadata": {},
   "source": [
    "## Saving model"
   ]
  },
  {
   "cell_type": "code",
   "execution_count": 20,
   "metadata": {},
   "outputs": [
    {
     "name": "stderr",
     "output_type": "stream",
     "text": [
      "/Applications/Anaconda-Navigator/anaconda3/lib/python3.7/site-packages/tensorflow/python/keras/engine/training.py:2292: UserWarning: `Model.state_updates` will be removed in a future version. This property should not be used in TensorFlow 2.0, as `updates` are applied automatically.\n",
      "  warnings.warn('`Model.state_updates` will be removed in a future version. '\n",
      "/Applications/Anaconda-Navigator/anaconda3/lib/python3.7/site-packages/tensorflow/python/keras/engine/base_layer.py:1377: UserWarning: `layer.updates` will be removed in a future version. This property should not be used in TensorFlow 2.0, as `updates` are applied automatically.\n",
      "  warnings.warn('`layer.updates` will be removed in a future version. '\n"
     ]
    },
    {
     "name": "stdout",
     "output_type": "stream",
     "text": [
      "INFO:tensorflow:Assets written to: mathSymbolsPredictor.model/assets\n"
     ]
    }
   ],
   "source": [
    "model.save('mathSymbolsPredictor.model')\n",
    "np.save('classes.npy', label_encoder.classes_)"
   ]
  },
  {
   "cell_type": "markdown",
   "metadata": {},
   "source": [
    "## New predictions"
   ]
  },
  {
   "cell_type": "code",
   "execution_count": 22,
   "metadata": {},
   "outputs": [
    {
     "name": "stdout",
     "output_type": "stream",
     "text": [
      "J 0.773028\n"
     ]
    },
    {
     "data": {
      "text/html": [
       "<img src=\"hasy-data/v2-00100.png\"/>"
      ],
      "text/plain": [
       "<IPython.core.display.Image object>"
      ]
     },
     "execution_count": 22,
     "metadata": {},
     "output_type": "execute_result"
    }
   ],
   "source": [
    "import keras.models\n",
    "#model_ = keras.models.load('mathSymbolsPredictor.model')\n",
    "\n",
    "label_encoder2 = LabelEncoder()\n",
    "label_encoder2.classes_ = np.load('classes.npy')\n",
    "\n",
    "PATH = 'hasy-data/v2-00100.png'\n",
    "\n",
    "image = keras.preprocessing.image.img_to_array(pil_image.open(PATH))\n",
    "image /= 255.\n",
    "predicted = (model.predict(image.reshape(1, 32, 32, 3)))\n",
    "inverted = label_encoder2.inverse_transform([np.argmax(predicted)])\n",
    "print(inverted[0], np.max(predicted))\n",
    "(Image(url=PATH))"
   ]
  },
  {
   "cell_type": "code",
   "execution_count": null,
   "metadata": {},
   "outputs": [],
   "source": []
  },
  {
   "cell_type": "markdown",
   "metadata": {},
   "source": [
    "# Convert your model into .tflite \n",
    "## To deploy it on an application"
   ]
  },
  {
   "cell_type": "code",
   "execution_count": null,
   "metadata": {},
   "outputs": [],
   "source": [
    "RPS_SAVED_MODEL = \"rps_saved_model\"\n",
    "tf.saved_model.save(model, RPS_SAVED_MODEL)"
   ]
  },
  {
   "cell_type": "code",
   "execution_count": null,
   "metadata": {},
   "outputs": [],
   "source": [
    "%%bash -s $RPS_SAVED_MODEL\n",
    "saved_model_cli show --dir $1 --tag_set serve --signature_def serving_default"
   ]
  },
  {
   "cell_type": "code",
   "execution_count": null,
   "metadata": {},
   "outputs": [],
   "source": [
    "loaded = tf.saved_model.load(RPS_SAVED_MODEL)\n",
    "print(list(loaded.signatures.keys()))\n",
    "infer = loaded.signatures[\"serving_default\"]\n",
    "print(infer.structured_input_signature)\n",
    "print(infer.structured_outputs)\n",
    "converter = tf.lite.TFLiteConverter.from_saved_model(RPS_SAVED_MODEL)\n",
    "converter.optimizations = [tf.lite.Optimize.OPTIMIZE_FOR_SIZE]\n",
    "tflite_model = converter.convert()"
   ]
  },
  {
   "cell_type": "code",
   "execution_count": null,
   "metadata": {},
   "outputs": [],
   "source": [
    "import tensorflow as tf\n",
    "tflite_model_file = 'handwritten_mathematical_symbol_model_v1.tflite'"
   ]
  }
 ],
 "metadata": {
  "kernelspec": {
   "display_name": "Python 3",
   "language": "python",
   "name": "python3"
  },
  "language_info": {
   "codemirror_mode": {
    "name": "ipython",
    "version": 3
   },
   "file_extension": ".py",
   "mimetype": "text/x-python",
   "name": "python",
   "nbconvert_exporter": "python",
   "pygments_lexer": "ipython3",
   "version": "3.7.4"
  }
 },
 "nbformat": 4,
 "nbformat_minor": 2
}
